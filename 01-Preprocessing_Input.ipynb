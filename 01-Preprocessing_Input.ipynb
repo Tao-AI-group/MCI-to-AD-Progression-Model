{
 "cells": [
  {
   "cell_type": "code",
   "execution_count": 1,
   "id": "b5da889c-f1f6-4cbf-ad4d-38ab80a77d36",
   "metadata": {},
   "outputs": [],
   "source": [
    "# Import libraries\n",
    "\n",
    "import pandas as pd\n",
    "import numpy as np\n",
    "from datetime import datetime as dt\n",
    "import pickle"
   ]
  },
  {
   "cell_type": "markdown",
   "id": "b40791e2-fdb9-4e3f-9552-f583701fd367",
   "metadata": {
    "tags": []
   },
   "source": [
    "# Preparing labels patient data"
   ]
  },
  {
   "cell_type": "code",
   "execution_count": 2,
   "id": "55bbe1bb-7d12-464b-ad9b-57c8832c0d58",
   "metadata": {},
   "outputs": [],
   "source": [
    "# Paths\n",
    "\n",
    "in_path = '/ctao_shared_data/MCI_optum/Deep_learning/MCI/'   \n",
    "ot_path = '../../Data/'"
   ]
  },
  {
   "cell_type": "code",
   "execution_count": null,
   "id": "ea7f69e5-6016-4029-9c42-48be4ff6aa7d",
   "metadata": {},
   "outputs": [],
   "source": [
    "# Load labels file which contains patient information : each row represents one patient\n",
    "df = pd.read_csv(in_path + 'demo_adRelabel_fstAdReLabel_timeRelabel_80931_JF.csv')\n",
    "\n",
    "# Print total number of patients\n",
    "print(\"Total number of patients \", len (df)) "
   ]
  },
  {
   "cell_type": "code",
   "execution_count": null,
   "id": "c206701c-6989-402a-b2e3-8ce89b0f0544",
   "metadata": {},
   "outputs": [],
   "source": [
    "# Filtering patients younger than 40 years old at the first MCI diagnosis\n",
    "age_filtered= df[df['age_dx_mci_1st']>=40]\n",
    "age_filtered"
   ]
  },
  {
   "cell_type": "code",
   "execution_count": null,
   "id": "75f7156e-6778-474b-991b-c7a64572fb39",
   "metadata": {},
   "outputs": [],
   "source": [
    "# Include only patients identified as Males or Females\n",
    "age_filtered = age_filtered[(age_filtered['sex'] == 'M') | (age_filtered['sex'] == 'F')]\n",
    "age_filtered "
   ]
  },
  {
   "cell_type": "code",
   "execution_count": null,
   "id": "50316a45-0872-439a-94a0-ed7a6588d17d",
   "metadata": {},
   "outputs": [],
   "source": [
    "# Save a final list of eligible patients in .pkl file\n",
    "# Number of patients: 80915\n",
    "\n",
    "u_p_list = age_filtered.patid.unique()\n",
    "with open(ot_path + 'MCI_p_list_final.pkl', 'wb') as f:\n",
    "    pickle.dump(u_p_list.tolist(), f)\n"
   ]
  },
  {
   "cell_type": "markdown",
   "id": "aafeaa0e-2e60-4114-b346-6a86afd798dd",
   "metadata": {
    "tags": []
   },
   "source": [
    "# Diagnoses"
   ]
  },
  {
   "cell_type": "markdown",
   "id": "650f9199-695e-4698-ac75-a979da375217",
   "metadata": {},
   "source": [
    "## Preprocess Diagnoses Data"
   ]
  },
  {
   "cell_type": "code",
   "execution_count": null,
   "id": "156bd9e0-0a20-4962-a214-12f074b66c83",
   "metadata": {},
   "outputs": [],
   "source": [
    "# Load diagnosis file : this file contains patient_id, claim_date, diagnosis code and ICD code flag\n",
    "f = \"final_diagnosis_all\"\n",
    "diagnosis_original = pd.read_csv(in_path+f+'.csv', delimiter = ',', low_memory = False)"
   ]
  },
  {
   "cell_type": "code",
   "execution_count": null,
   "id": "f10df159-b76d-44f0-b2eb-d1bf8b7a8f74",
   "metadata": {},
   "outputs": [],
   "source": [
    "# Filter patients using the list of eligible patients\n",
    "diag_filtered = diagnosis_original[diagnosis_original['patid'].isin(u_p_list)]"
   ]
  },
  {
   "cell_type": "code",
   "execution_count": null,
   "id": "e44aeeaf-1950-4ce7-a97f-42ae4734f123",
   "metadata": {},
   "outputs": [],
   "source": [
    "# Convert wrong coded ICD10-CM to ICD9\n",
    "# Codes starts with a digit is an ICD9 Code\n",
    "a_is_digit = diag_filtered.diag.str[0].str.isdigit()\n",
    "diag_filtered.loc[a_is_digit ,'icd_flag']= 9\n",
    "diag_filtered= diag_filtered.drop_duplicates()\n",
    "\n",
    "# Convert wrong coded ICD9 to ICD10-CM \n",
    "# Codes that don't start with V or E or first letter is not digit should be marked as ICD10-CM\n",
    "dont_start_with_V_or_E = ~diag_filtered.diag.str.get(0).isin(['V','E']) & ~diag_filtered.diag.str[0].str.isdigit()\n",
    "diag_filtered.loc[dont_start_with_V_or_E,'icd_flag']= 10\n",
    "diag_filtered = diag_filtered.drop_duplicates()"
   ]
  },
  {
   "cell_type": "markdown",
   "id": "9fd9c369-a702-4009-823f-bd6d0ac42aad",
   "metadata": {},
   "source": [
    "## Mapping to Phecodes"
   ]
  },
  {
   "cell_type": "code",
   "execution_count": null,
   "id": "1c12c8eb-c89d-49c0-9328-af9cb6e65057",
   "metadata": {},
   "outputs": [],
   "source": [
    "# Load mapping file from diagnosis ICD codes to Phecodes\n",
    "phe_file = \"raw_to_phewas.txt\"\n",
    "\n",
    "# Preprocess Phecodes file\n",
    "f_loaded = pd.read_csv(in_path + phe_file , delimiter = '\\t',low_memory = False)\n",
    "f_loaded = f_loaded[f_loaded[\"diagnosis_type\"]!= 'ICD10_CA']\n",
    "f_loaded['diagnosis_code']= (f_loaded['diagnosis_code']).astype(str).str.replace('.', '')\n",
    "f_loaded['phe_icd']= (f_loaded['phe_icd']).astype(str).str.replace('.', '')"
   ]
  },
  {
   "cell_type": "code",
   "execution_count": null,
   "id": "4ba32610-5fb7-4c9c-ae4e-e6f34bfee8ae",
   "metadata": {},
   "outputs": [],
   "source": [
    "# Merging Original codes and phecodes\n",
    "merged_codes = pd.merge(diag_filtered, f_loaded, how = 'left',left_on=['diag','icd_flag'], right_on=['diagnosis_code','diagnosis_type'])\n",
    "merged_codes = merged_codes.drop_duplicates()\n",
    "merged_codes = merged_codes.dropna()"
   ]
  },
  {
   "cell_type": "markdown",
   "id": "2bfd55b2-9bf3-45fe-826b-c88c2974f172",
   "metadata": {},
   "source": [
    "## Save final mapped diagnosis file"
   ]
  },
  {
   "cell_type": "code",
   "execution_count": null,
   "id": "15a6bc53-d54e-40cd-b511-0e020bd8013e",
   "metadata": {},
   "outputs": [],
   "source": [
    "col = ['patid', 'fst_dt', 'phecode']\n",
    "final_diagnosis_phewas = (\n",
    "    merged_codes[col]\n",
    "    .drop_duplicates()\n",
    "    .assign(\n",
    "        aggregation_window_id=lambda df: df.patid.astype(str) + '_' + df.fst_dt.astype(str),\n",
    "        modified_diag=lambda df: 'D_' + df.phecode.astype(str)\n",
    "    )[['patid', 'fst_dt', 'aggregation_window_id', 'modified_diag']]\n",
    ")\n",
    "final_diagnosis_phewas.to_csv(ot_path + 'phewas_diagnosis_dataset_final.csv', index=False)"
   ]
  },
  {
   "cell_type": "markdown",
   "id": "fa5d2767-85f3-4980-94fc-605bc505f07c",
   "metadata": {
    "tags": []
   },
   "source": [
    "# Procedures"
   ]
  },
  {
   "cell_type": "markdown",
   "id": "da94bd18-e0be-425d-99f9-fa1b9ede1ae4",
   "metadata": {},
   "source": [
    "## Preprocess Procedures Data"
   ]
  },
  {
   "cell_type": "code",
   "execution_count": null,
   "id": "7e01666b-e301-4ebe-a4eb-70951caa223c",
   "metadata": {},
   "outputs": [],
   "source": [
    "# Load procedures file : this file contains patient_id, claim_date, procedure code and ICD code flag\n",
    "f = \"final_proc_all\"\n",
    "procedures_original =  pd.read_csv(in_path + f + '.csv', delimiter = ',', low_memory = False)"
   ]
  },
  {
   "cell_type": "code",
   "execution_count": null,
   "id": "17bb8ee3-bbed-4dce-8e71-a3324140dce2",
   "metadata": {},
   "outputs": [],
   "source": [
    "# Filter patients using the list of eligible patients\n",
    "procedures_filtered = procedures_original[procedures_original['patid'].isin(u_p_list)]"
   ]
  },
  {
   "cell_type": "code",
   "execution_count": null,
   "id": "9d075524-50c4-4eb2-ac6c-e9af3c652e5e",
   "metadata": {},
   "outputs": [],
   "source": [
    "# Fix Incorrect ICD-10 Codes\n",
    "# Filter the DataFrame to include only rows where the length of 'proc' is >= 3 and not equal to 6\n",
    "procedures_filtered = procedures_filtered[\n",
    "    procedures_filtered.proc.str.len().ge(3) & procedures_filtered.proc.str.len().ne(6)\n",
    "].assign(\n",
    "    # Update the 'icd_flag' column: set it to 10.0 for rows where the length of 'proc' is exactly 7,\n",
    "    # otherwise retain the original value of 'icd_flag'\n",
    "    icd_flag=lambda df: np.where(df.proc.str.len() == 7, 10.0, df.icd_flag)\n",
    ")"
   ]
  },
  {
   "cell_type": "markdown",
   "id": "ac2b765b-e759-4618-bf62-4db4f7a37cdf",
   "metadata": {},
   "source": [
    "## Converting to CCS  (Clinical Classification Software) Codes"
   ]
  },
  {
   "cell_type": "code",
   "execution_count": null,
   "id": "b2c5ad78-0bdb-4c38-b5dc-1c75ccb12b93",
   "metadata": {},
   "outputs": [],
   "source": [
    "# Working on ICD9-CM\n",
    "\n",
    "# Step 1: Filter Procedures for ICD-9-CM Codes\n",
    "proc_icd_9_cm = procedures_filtered.loc[(procedures_filtered['proc'].str.len() == 4) | (procedures_filtered['proc'].str.len() == 3) ]\n",
    "proc_icd_9_cm\n",
    "proc_icd_9_cm.icd_flag = 9.0\n",
    "\n",
    "# Step 2: Extract unique ICD-9-CM Codes\n",
    "col = ['proc', 'icd_flag']\n",
    "unique_proc_icd_9_cm = proc_icd_9_cm[col].drop_duplicates()\n",
    "unique_proc_icd_9_cm\n",
    "\n",
    "# Step 3: Load and Preprocess CCS ICD-9-CM Mapping File\n",
    "ccs_icd9_file = \"$prref 2015.csv\"\n",
    "ccs_icd9_file_loaded = pd.read_csv(in_path + ccs_icd9_file , delimiter = ',',low_memory = False)\n",
    "ccs_icd9_file_loaded.rename(columns=lambda x: x.strip(\"'\"), inplace=True)\n",
    "ccs_icd9_file_loaded= ccs_icd9_file_loaded.replace(\"  '\", '', regex=True)\n",
    "ccs_icd9_file_loaded= ccs_icd9_file_loaded.replace(\" '\", '', regex=True)\n",
    "ccs_icd9_file_loaded= ccs_icd9_file_loaded.replace(\"'\", '', regex=True)\n",
    "\n",
    "# Step 4: Merge ICD-9-CM Codes with CCS Data\n",
    "merged_icd_9_cm = unique_proc_icd_9_cm.merge(ccs_icd9_file_loaded, how = 'left',left_on=['proc'], right_on=['ICD-9-CM CODE'])\n",
    "merged_icd_9_cm = merged_icd_9_cm.dropna() \n",
    "merged_icd_9_cm\n",
    "\n",
    "# Step 5: Creates a dictionary that maps each ICD-9-CM procedure code to its corresponding CCS\n",
    "Final_dict = dict(zip(merged_icd_9_cm['proc'], merged_icd_9_cm['CCS CATEGORY']))"
   ]
  },
  {
   "cell_type": "code",
   "execution_count": null,
   "id": "4fabdce4-4a72-4f54-9b86-1247bfa36d9f",
   "metadata": {},
   "outputs": [],
   "source": [
    "# Working on ICD-10-PCS\n",
    "\n",
    "# Remaining#1: Filter Out ICD-9-CM Procedures\n",
    "# Exclude rows already classified as ICD-9-CM codes from the original dataset\n",
    "procedures_updated1 = procedures_filtered.loc[procedures_filtered.index.difference(proc_icd_9_cm.index)]\n",
    "\n",
    "# Step 1: Filter Procedures for ICD-10-PCS\n",
    "proc_icd_10_pcs = procedures_updated1[(procedures_updated1.icd_flag == 10.0) & (procedures_updated1.proc.str.len() == 7)]\n",
    "\n",
    "# Step 2: Extract Unique ICD-10-PCS Codes\n",
    "col = ['proc', 'icd_flag']\n",
    "unique_proc_icd_10_pcs = proc_icd_10_pcs[col].drop_duplicates()\n",
    "\n",
    "# Step 3: Load and Preprocess CCS ICD-10 Mapping File\n",
    "ccs_icd10_file = \"ccs_pr_icd10pcs_2019_2.csv\"\n",
    "ccs_icd10_file_loaded = pd.read_csv(in_path + ccs_icd10_file , delimiter = ',',low_memory = False)\n",
    "ccs_icd10_file_loaded.rename(columns=lambda x: x.strip(\"'\"), inplace=True)\n",
    "ccs_icd10_file_loaded = ccs_icd10_file_loaded.replace(\"'\", '', regex=True)\n",
    "\n",
    "# Step 4: Merge ICD-10-PCS Codes with Classification Data\n",
    "merged_icd_10 = unique_proc_icd_10_pcs.merge(ccs_icd10_file_loaded, how = 'left',left_on=['proc'], right_on=['ICD-10-PCS CODE'])\n",
    "merged_icd_10 = merged_icd_10.dropna()\n",
    "\n",
    "# Step 5: Update Final Dictionary - Integrate ICD-10-PCS classifications into the final mapping dictionary\n",
    "icd_10_dict = dict(zip(merged_icd_10['proc'], merged_icd_10['CCS CATEGORY']))\n",
    "Final_dict.update(icd_10_dict)"
   ]
  },
  {
   "cell_type": "code",
   "execution_count": null,
   "id": "856f0d41-4aef-4357-97a9-22ec568db726",
   "metadata": {},
   "outputs": [],
   "source": [
    "# Working on HCPCS Level I and HCPCS Level II Procedure Codes\n",
    "\n",
    "# Remaining#2 - Exclude ICD-9-CM and ICD-10-PCS Codes\n",
    "procedures_updated2 = procedures_updated1.loc[procedures_updated1.index.difference(proc_icd_10_pcs.index)]\n",
    "\n",
    "\n",
    "#Step 1: Extract Unique HCPCS Codes\n",
    "col = ['proc', 'icd_flag']\n",
    "unique_proc_HCPCS = procedures_updated2[col].drop_duplicates()\n",
    "\n",
    "#Step 2: Load and Parse the HCPCS Mapping File\n",
    "ccs_HCPCS_file = \"CCS_services_procedure_v2019-2022_keep_updated.csv\"\n",
    "final_map_all = pd.read_csv(in_path + ccs_HCPCS_file ,low_memory = False)\n",
    "#Split the Code Range into Start and End\n",
    "final_map_all[[\"code1\", \"code2\"]] = final_map_all[\"Code Range\"].str.split(\"-\", expand=True)\n",
    "map_dict = final_map_all[['CCS','code1','code2']].to_dict('records')\n",
    "\n",
    "#Step 3: Match HCPCS Codes to Ranges\n",
    "proc_list = unique_proc_HCPCS.proc.unique().tolist()\n",
    "for proc_code in set(proc_list):\n",
    "    for item in map_dict:\n",
    "        for k in item.keys():\n",
    "            if k =='code1': \n",
    "                code1 = item.get(k)\n",
    "            if k =='code2':\n",
    "                code2 = item.get(k) \n",
    "        if (proc_code == code1) or (proc_code == code2) :\n",
    "            item.setdefault('proc_cd',[]).append(proc_code)\n",
    "            break\n",
    "        elif (proc_code > code1) and (proc_code < code2) :\n",
    "            item.setdefault('proc_cd',[]).append(proc_code)\n",
    "            break\n",
    "\n",
    "#Step 4: Create a DataFrame for Mapped Codes\n",
    "new_map = pd.DataFrame.from_dict(map_dict)\n",
    "#Filter and Explode Matched Codes\n",
    "matched_new_map = new_map[~new_map.proc_cd.isnull()]\n",
    "matched_new_map_explode = matched_new_map.explode('proc_cd').drop_duplicates(ignore_index=True)\n",
    "matched_new_map_explode['CCS'] = matched_new_map_explode['CCS'].astype(str) \n",
    "\n",
    "#Step 5: Merge HCPCS Codes with Classification Data\n",
    "merged_HCPCS = unique_proc_HCPCS.merge(matched_new_map_explode, how = 'left',left_on=['proc'], right_on=['proc_cd'])\n",
    "merged_HCPCS = merged_HCPCS.dropna() \n",
    "\n",
    "\n",
    "#Adding HCPCS Codes to the Final Dictionary\n",
    "HCPCS_dict = dict(zip(merged_HCPCS['proc'], merged_HCPCS['CCS']))\n",
    "Final_dict.update(HCPCS_dict)"
   ]
  },
  {
   "cell_type": "markdown",
   "id": "dae76800-0cf7-451f-a016-9593555366e4",
   "metadata": {},
   "source": [
    "## Remapping original codes to CCS and save final mapped procedure file"
   ]
  },
  {
   "cell_type": "code",
   "execution_count": null,
   "id": "abcf1b77-d2ba-404d-826c-bab02350de26",
   "metadata": {},
   "outputs": [],
   "source": [
    "procedures_filtered[\"proc\"] = procedures_filtered[\"proc\"].map(Final_dict)\n",
    "procedures_filtered = procedures_filtered.dropna()\n",
    "procedures_filtered['aggregation_window_id'] = procedures_filtered.patid.astype(str) + '_' + procedures_filtered.fst_dt.astype(str)\n",
    "procedures_filtered['mod_proc_code'] = 'P_' + procedures_filtered['proc'].astype(str)\n",
    "\n",
    "cl = ['patid', 'fst_dt', 'aggregation_window_id', 'mod_proc_code']\n",
    "procedures_filtered[cl].to_csv(ot_path + 'mod_proc_dataset_final.csv', index=False)"
   ]
  },
  {
   "cell_type": "markdown",
   "id": "64db3542-bf9a-4cc8-9892-ebb113a384e8",
   "metadata": {
    "tags": []
   },
   "source": [
    "# Medications"
   ]
  },
  {
   "cell_type": "markdown",
   "id": "70e91837-7edb-42ea-8e8e-5a60db9ca6ee",
   "metadata": {},
   "source": [
    "## Preprocess medications"
   ]
  },
  {
   "cell_type": "code",
   "execution_count": null,
   "id": "a6586a5a-4db0-460a-9cbf-6adbc151be15",
   "metadata": {},
   "outputs": [],
   "source": [
    "# Load drugs file\n",
    "f ='final_drug_all'\n",
    "drugs_original = pd.read_csv(in_path + f + '.csv',  delimiter = ',', low_memory = False)\n",
    "\n",
    "# Filter patients using the list of eligible patients\n",
    "drugs_filtered = drugs_original[drugs_original['patid'].isin(u_p_list)]"
   ]
  },
  {
   "cell_type": "code",
   "execution_count": null,
   "id": "2aa32431-1f17-410f-8376-d5c9ae1e4efb",
   "metadata": {},
   "outputs": [],
   "source": [
    "# Load the NDC (National Drug Code) data from a tab-delimited file\n",
    "ndc = pd.read_csv(in_path + 'lu_ndc.csv',delimiter = '\\t', header=1, low_memory=False)\n",
    "\n",
    "# Select only the relevant columns: 'NDC' (National Drug Code) and 'GNRC_NM' (Generic Name)\n",
    "ndc = ndc[['NDC','GNRC_NM']].drop_duplicates().reset_index(drop=True)\n",
    "ndc = ndc.dropna()"
   ]
  },
  {
   "cell_type": "markdown",
   "id": "efcc19ce-6465-4794-b473-54208ea2e9ca",
   "metadata": {},
   "source": [
    "## Maping NDC to generic Names"
   ]
  },
  {
   "cell_type": "code",
   "execution_count": null,
   "id": "ddb06500-bd10-437d-a55b-69f68074d6f1",
   "metadata": {},
   "outputs": [],
   "source": [
    "# Create a Dictionary for NDC to Generic Name Mapping\n",
    "ndc_gnrc_nm = dict(zip(ndc['NDC'], ndc['GNRC_NM'])) \n",
    "\n",
    "gnrc_nm_list = []\n",
    "for ndc in drugs_filtered['ndc']:\n",
    "    if ndc in ndc_gnrc_nm:\n",
    "        gnrc_nm_list.append(ndc_gnrc_nm[ndc])\n",
    "    else:\n",
    "        gnrc_nm_list.append(np.nan)\n",
    "# Add the Generic Names to the Drug DataFrame\n",
    "drugs_filtered['gnrc_nm']= gnrc_nm_list\n",
    "drugs_filtered = drugs_filtered.dropna()"
   ]
  },
  {
   "cell_type": "markdown",
   "id": "34c91c52-c510-4668-a450-ad4d2a339f05",
   "metadata": {},
   "source": [
    "## Save final mapped medications file"
   ]
  },
  {
   "cell_type": "code",
   "execution_count": null,
   "id": "2ea995d3-93b4-439f-810d-c871948956c5",
   "metadata": {},
   "outputs": [],
   "source": [
    "drugs_filtered['encounter_id'] = drugs_filtered.patid.astype(str)+ '_'+ drugs_filtered.fst_dt.astype(str)\n",
    "mod_gen_drug_list = []\n",
    "for gnrc_nm in drug.gnrc_nm:\n",
    "    modified_name = 'M_' + gnrc_nm.lower().replace('.', '')\n",
    "    mod_gen_drug_list.append(modified_name)\n",
    "drugs_filtered['mod_gen_drug'] = mod_gen_drug_list\n",
    "\n",
    "cl = ['patid',  'fst_dt', 'aggregation_window_id', 'mod_gen_drug']\n",
    "drugs_filtered = drugs_filtered[cl]\n",
    "drugs_filtered.to_csv(ot_path + 'mod_drug_dataset_final.csv',index=False)"
   ]
  },
  {
   "cell_type": "markdown",
   "id": "4123bb74-60c7-44be-a9b3-f8f29a6c34fc",
   "metadata": {},
   "source": [
    "# Grouping claims into encounters"
   ]
  },
  {
   "cell_type": "code",
   "execution_count": null,
   "id": "bc35c6b8-2d27-4785-8f8d-fda721fe1c54",
   "metadata": {},
   "outputs": [],
   "source": [
    "cl = ['patid','fst_dt','aggregation_window_id']\n",
    "\n",
    "\n",
    "df1 = pd.read_csv(ot_path + 'phewas_diagnosis_dataset_final.csv' , delimiter = ',', low_memory = False, usecols=cl)\n",
    "df2 = pd.read_csv(ot_path + 'mod_proc_dataset_final.csv', delimiter = ',', low_memory = False, usecols=cl)\n",
    "df3 = pd.read_csv(ot_path + 'mod_drug_dataset_final.csv', delimiter = ',', low_memory = False, usecols=cl)\n",
    "\n",
    "df_concat = pd.concat([df1, df2, df3], axis=0)\n",
    "clm_df  = df_concat.drop_duplicates()\n",
    "   \n",
    "clm_df = clm_df[['aggregation_window_id', 'patid', 'fst_dt']]\n",
    "clm_df = clm_df.sort_values(by=['aggregation_window_id']).reset_index(drop=True)\n",
    "clm_df.to_csv(ot_path + 'dict_encounter_Dataset_final.csv',index=False)"
   ]
  }
 ],
 "metadata": {
  "kernelspec": {
   "display_name": "Python 3 (ipykernel)",
   "language": "python",
   "name": "python3"
  },
  "language_info": {
   "codemirror_mode": {
    "name": "ipython",
    "version": 3
   },
   "file_extension": ".py",
   "mimetype": "text/x-python",
   "name": "python",
   "nbconvert_exporter": "python",
   "pygments_lexer": "ipython3",
   "version": "3.9.16"
  }
 },
 "nbformat": 4,
 "nbformat_minor": 5
}
